{
 "cells": [
  {
   "cell_type": "markdown",
   "id": "49337e62-5439-4089-a4ce-4db886aecb1b",
   "metadata": {},
   "source": [
    "$CustomerID$: Customer ID unique for each customer\n",
    "<br>\n",
    "<br>\n",
    "$gender$: Whether the customer is a male or a female\n",
    "<br>\n",
    "<br>\n",
    "$SeniorCitizen$: Whether the customer is a senior citizen or not (1, 0)- Müşterinin yaşlı olup olmadığı\n",
    "<br>\n",
    "<br>\n",
    "$Partner$: Whether the customer has a partner or not (Yes, No)-Müşterinin bir ortağı var mı yok mu\n",
    "<br>\n",
    "<br>\n",
    "$Dependent$: Whether the customer has dependents or not (Yes, No)\n",
    "<br>\n",
    "<br>\n",
    "$PhoneService$: Whether the customer has a phone service or not (Yes, No)\n",
    "<br>\n",
    "<br>\n",
    "$MultipeLines$: Whether the customer has multiple lines or not (Yes, No, No phone service)-Müşterinin birden fazla hattı olup olmadığı\n",
    "<br>\n",
    "<br>\n",
    "$InternetService$: Customer’s internet service provider (DSL, Fiber optic, No)\n",
    "<br>\n",
    "<br>\n",
    "$OnlineSecurity$: Whether the customer has online security or not (Yes, No, No internet service)\n",
    "<br>\n",
    "<br>\n",
    "$OnlineBackup$: Whether the customer has an online backup or not (Yes, No, No internet service)\n",
    "<br>\n",
    "<br>\n",
    "$DeviceProtection$: Whether the customer has device protection or not (Yes, No, No internet service)\n",
    "<br>\n",
    "<br>\n",
    "$TechSupport$: Whether the customer has tech support or not (Yes, No, No internet service)\n",
    "<br>\n",
    "<br>\n",
    "$StreamingTV$: Whether the customer has streaming TV or not (Yes, No, No internet service)\n",
    "<br>\n",
    "<br>\n",
    "$StreamingMovies$: Whether the customer has streaming movies or not (Yes, No, No internet service)\n",
    "<br>\n",
    "<br>\n",
    "$Contract$: The contract term of the customer (Month-to-month, One year, Two years)-Müşterinin sözleşme süresi\n",
    "<br>\n",
    "<br>\n",
    "$PaperlessBilling$: The contract term of the customer (Month-to-month, One year, Two years)\n",
    "<br>\n",
    "<br>\n",
    "$PaymentMethod$: The customer’s payment method (Electronic check, Mailed check, Bank transfer (automatic), Credit card (automatic))\n",
    "<br>\n",
    "<br>\n",
    "$Tenure$: Number of months the customer has stayed with the company-- Müşterinin şirkette kaldığı ay sayısı\n",
    "<br>\n",
    "<br>\n",
    "$MonthlyCharges$: The amount charged to the customer monthly--Müşteriden tahsil edilen aylık tutar\n",
    "<br>\n",
    "<br>\n",
    "$TotalCharges$: The total amount charged to the customer--Müşteriden tahsil edilen toplam tutar\n",
    "<br>\n",
    "<br>\n",
    "$Churn$: Whether the customer churned or not (Yes or No)"
   ]
  },
  {
   "cell_type": "markdown",
   "id": "ae43d136-0ec9-44ac-be53-7852844b06b8",
   "metadata": {},
   "source": [
    "# Kütüphaneler"
   ]
  },
  {
   "cell_type": "code",
   "execution_count": 1,
   "id": "89c159e4-49ba-44ec-9ebc-39f3ee797116",
   "metadata": {},
   "outputs": [],
   "source": [
    "import pandas as pd\n",
    "import matplotlib.pyplot as plt\n",
    "import seaborn as sns\n",
    "import numpy as np\n",
    "import warnings\n",
    "from scipy.stats import chi2_contingency\n",
    "from sklearn import preprocessing\n",
    "from sklearn.model_selection import train_test_split,GridSearchCV\n",
    "from sklearn.feature_selection import SelectKBest,f_classif,mutual_info_classif\n",
    "from sklearn.preprocessing import StandardScaler,MinMaxScaler,OrdinalEncoder\n",
    "from sklearn.metrics import confusion_matrix,accuracy_score,roc_auc_score,classification_report\n",
    "\n",
    "from sklearn import svm\n",
    "\n",
    "\n",
    "from imblearn.over_sampling import SMOTE as sm\n",
    "from collections import Counter\n",
    "\n",
    "from sklearn.linear_model import LogisticRegression\n",
    "from sklearn.neighbors import KNeighborsClassifier\n",
    "from sklearn.neural_network import MLPClassifier\n",
    "from sklearn.tree import DecisionTreeClassifier\n",
    "from sklearn.ensemble import GradientBoostingClassifier\n",
    "from xgboost import XGBClassifier\n",
    "from lightgbm import LGBMClassifier\n",
    "from catboost import CatBoostClassifier\n",
    "from sklearn.ensemble import RandomForestClassifier\n",
    "\n",
    "warnings.simplefilter(action=\"ignore\", category=FutureWarning)"
   ]
  },
  {
   "cell_type": "markdown",
   "id": "85c4d210-17ab-421b-a426-a2da658ed2e3",
   "metadata": {},
   "source": [
    "# Veriye ilk bakış "
   ]
  },
  {
   "cell_type": "code",
   "execution_count": 2,
   "id": "799a7de0-baac-4651-aca7-a126097f658e",
   "metadata": {},
   "outputs": [],
   "source": [
    "df=pd.read_csv(r\"Churn.csv\")"
   ]
  },
  {
   "cell_type": "code",
   "execution_count": 3,
   "id": "0b7fc340-7d40-4b43-90f0-f7923ce78391",
   "metadata": {},
   "outputs": [
    {
     "data": {
      "text/html": [
       "<div>\n",
       "<style scoped>\n",
       "    .dataframe tbody tr th:only-of-type {\n",
       "        vertical-align: middle;\n",
       "    }\n",
       "\n",
       "    .dataframe tbody tr th {\n",
       "        vertical-align: top;\n",
       "    }\n",
       "\n",
       "    .dataframe thead th {\n",
       "        text-align: right;\n",
       "    }\n",
       "</style>\n",
       "<table border=\"1\" class=\"dataframe\">\n",
       "  <thead>\n",
       "    <tr style=\"text-align: right;\">\n",
       "      <th></th>\n",
       "      <th>customerID</th>\n",
       "      <th>gender</th>\n",
       "      <th>SeniorCitizen</th>\n",
       "      <th>Partner</th>\n",
       "      <th>Dependents</th>\n",
       "      <th>tenure</th>\n",
       "      <th>PhoneService</th>\n",
       "      <th>MultipleLines</th>\n",
       "      <th>InternetService</th>\n",
       "      <th>OnlineSecurity</th>\n",
       "      <th>...</th>\n",
       "      <th>DeviceProtection</th>\n",
       "      <th>TechSupport</th>\n",
       "      <th>StreamingTV</th>\n",
       "      <th>StreamingMovies</th>\n",
       "      <th>Contract</th>\n",
       "      <th>PaperlessBilling</th>\n",
       "      <th>PaymentMethod</th>\n",
       "      <th>MonthlyCharges</th>\n",
       "      <th>TotalCharges</th>\n",
       "      <th>Churn</th>\n",
       "    </tr>\n",
       "  </thead>\n",
       "  <tbody>\n",
       "    <tr>\n",
       "      <th>0</th>\n",
       "      <td>7590-VHVEG</td>\n",
       "      <td>Female</td>\n",
       "      <td>0</td>\n",
       "      <td>Yes</td>\n",
       "      <td>No</td>\n",
       "      <td>1</td>\n",
       "      <td>No</td>\n",
       "      <td>No phone service</td>\n",
       "      <td>DSL</td>\n",
       "      <td>No</td>\n",
       "      <td>...</td>\n",
       "      <td>No</td>\n",
       "      <td>No</td>\n",
       "      <td>No</td>\n",
       "      <td>No</td>\n",
       "      <td>Month-to-month</td>\n",
       "      <td>Yes</td>\n",
       "      <td>Electronic check</td>\n",
       "      <td>29.85</td>\n",
       "      <td>29.85</td>\n",
       "      <td>No</td>\n",
       "    </tr>\n",
       "    <tr>\n",
       "      <th>1</th>\n",
       "      <td>5575-GNVDE</td>\n",
       "      <td>Male</td>\n",
       "      <td>0</td>\n",
       "      <td>No</td>\n",
       "      <td>No</td>\n",
       "      <td>34</td>\n",
       "      <td>Yes</td>\n",
       "      <td>No</td>\n",
       "      <td>DSL</td>\n",
       "      <td>Yes</td>\n",
       "      <td>...</td>\n",
       "      <td>Yes</td>\n",
       "      <td>No</td>\n",
       "      <td>No</td>\n",
       "      <td>No</td>\n",
       "      <td>One year</td>\n",
       "      <td>No</td>\n",
       "      <td>Mailed check</td>\n",
       "      <td>56.95</td>\n",
       "      <td>1889.5</td>\n",
       "      <td>No</td>\n",
       "    </tr>\n",
       "    <tr>\n",
       "      <th>2</th>\n",
       "      <td>3668-QPYBK</td>\n",
       "      <td>Male</td>\n",
       "      <td>0</td>\n",
       "      <td>No</td>\n",
       "      <td>No</td>\n",
       "      <td>2</td>\n",
       "      <td>Yes</td>\n",
       "      <td>No</td>\n",
       "      <td>DSL</td>\n",
       "      <td>Yes</td>\n",
       "      <td>...</td>\n",
       "      <td>No</td>\n",
       "      <td>No</td>\n",
       "      <td>No</td>\n",
       "      <td>No</td>\n",
       "      <td>Month-to-month</td>\n",
       "      <td>Yes</td>\n",
       "      <td>Mailed check</td>\n",
       "      <td>53.85</td>\n",
       "      <td>108.15</td>\n",
       "      <td>Yes</td>\n",
       "    </tr>\n",
       "    <tr>\n",
       "      <th>3</th>\n",
       "      <td>7795-CFOCW</td>\n",
       "      <td>Male</td>\n",
       "      <td>0</td>\n",
       "      <td>No</td>\n",
       "      <td>No</td>\n",
       "      <td>45</td>\n",
       "      <td>No</td>\n",
       "      <td>No phone service</td>\n",
       "      <td>DSL</td>\n",
       "      <td>Yes</td>\n",
       "      <td>...</td>\n",
       "      <td>Yes</td>\n",
       "      <td>Yes</td>\n",
       "      <td>No</td>\n",
       "      <td>No</td>\n",
       "      <td>One year</td>\n",
       "      <td>No</td>\n",
       "      <td>Bank transfer (automatic)</td>\n",
       "      <td>42.30</td>\n",
       "      <td>1840.75</td>\n",
       "      <td>No</td>\n",
       "    </tr>\n",
       "    <tr>\n",
       "      <th>4</th>\n",
       "      <td>9237-HQITU</td>\n",
       "      <td>Female</td>\n",
       "      <td>0</td>\n",
       "      <td>No</td>\n",
       "      <td>No</td>\n",
       "      <td>2</td>\n",
       "      <td>Yes</td>\n",
       "      <td>No</td>\n",
       "      <td>Fiber optic</td>\n",
       "      <td>No</td>\n",
       "      <td>...</td>\n",
       "      <td>No</td>\n",
       "      <td>No</td>\n",
       "      <td>No</td>\n",
       "      <td>No</td>\n",
       "      <td>Month-to-month</td>\n",
       "      <td>Yes</td>\n",
       "      <td>Electronic check</td>\n",
       "      <td>70.70</td>\n",
       "      <td>151.65</td>\n",
       "      <td>Yes</td>\n",
       "    </tr>\n",
       "  </tbody>\n",
       "</table>\n",
       "<p>5 rows × 21 columns</p>\n",
       "</div>"
      ],
      "text/plain": [
       "   customerID  gender  SeniorCitizen Partner Dependents  tenure PhoneService  \\\n",
       "0  7590-VHVEG  Female              0     Yes         No       1           No   \n",
       "1  5575-GNVDE    Male              0      No         No      34          Yes   \n",
       "2  3668-QPYBK    Male              0      No         No       2          Yes   \n",
       "3  7795-CFOCW    Male              0      No         No      45           No   \n",
       "4  9237-HQITU  Female              0      No         No       2          Yes   \n",
       "\n",
       "      MultipleLines InternetService OnlineSecurity  ... DeviceProtection  \\\n",
       "0  No phone service             DSL             No  ...               No   \n",
       "1                No             DSL            Yes  ...              Yes   \n",
       "2                No             DSL            Yes  ...               No   \n",
       "3  No phone service             DSL            Yes  ...              Yes   \n",
       "4                No     Fiber optic             No  ...               No   \n",
       "\n",
       "  TechSupport StreamingTV StreamingMovies        Contract PaperlessBilling  \\\n",
       "0          No          No              No  Month-to-month              Yes   \n",
       "1          No          No              No        One year               No   \n",
       "2          No          No              No  Month-to-month              Yes   \n",
       "3         Yes          No              No        One year               No   \n",
       "4          No          No              No  Month-to-month              Yes   \n",
       "\n",
       "               PaymentMethod MonthlyCharges  TotalCharges Churn  \n",
       "0           Electronic check          29.85         29.85    No  \n",
       "1               Mailed check          56.95        1889.5    No  \n",
       "2               Mailed check          53.85        108.15   Yes  \n",
       "3  Bank transfer (automatic)          42.30       1840.75    No  \n",
       "4           Electronic check          70.70        151.65   Yes  \n",
       "\n",
       "[5 rows x 21 columns]"
      ]
     },
     "execution_count": 3,
     "metadata": {},
     "output_type": "execute_result"
    }
   ],
   "source": [
    "df.head()"
   ]
  },
  {
   "cell_type": "code",
   "execution_count": 4,
   "id": "22c97405-4ac0-4237-b7f2-b8eed1e1eb61",
   "metadata": {},
   "outputs": [],
   "source": [
    "df.drop(columns=\"customerID\",inplace=True)"
   ]
  },
  {
   "cell_type": "code",
   "execution_count": 5,
   "id": "3f846d7b-8bed-4658-b18b-c428b85d2ecc",
   "metadata": {},
   "outputs": [],
   "source": [
    "#veri seti yapısal bilgileri"
   ]
  },
  {
   "cell_type": "code",
   "execution_count": 6,
   "id": "199e4778-fc9e-4f7a-a859-a18cd8e17d14",
   "metadata": {},
   "outputs": [
    {
     "name": "stdout",
     "output_type": "stream",
     "text": [
      "<class 'pandas.core.frame.DataFrame'>\n",
      "RangeIndex: 7043 entries, 0 to 7042\n",
      "Data columns (total 20 columns):\n",
      " #   Column            Non-Null Count  Dtype  \n",
      "---  ------            --------------  -----  \n",
      " 0   gender            7043 non-null   object \n",
      " 1   SeniorCitizen     7043 non-null   int64  \n",
      " 2   Partner           7043 non-null   object \n",
      " 3   Dependents        7043 non-null   object \n",
      " 4   tenure            7043 non-null   int64  \n",
      " 5   PhoneService      7043 non-null   object \n",
      " 6   MultipleLines     7043 non-null   object \n",
      " 7   InternetService   7043 non-null   object \n",
      " 8   OnlineSecurity    7043 non-null   object \n",
      " 9   OnlineBackup      7043 non-null   object \n",
      " 10  DeviceProtection  7043 non-null   object \n",
      " 11  TechSupport       7043 non-null   object \n",
      " 12  StreamingTV       7043 non-null   object \n",
      " 13  StreamingMovies   7043 non-null   object \n",
      " 14  Contract          7043 non-null   object \n",
      " 15  PaperlessBilling  7043 non-null   object \n",
      " 16  PaymentMethod     7043 non-null   object \n",
      " 17  MonthlyCharges    7043 non-null   float64\n",
      " 18  TotalCharges      7043 non-null   object \n",
      " 19  Churn             7043 non-null   object \n",
      "dtypes: float64(1), int64(2), object(17)\n",
      "memory usage: 1.1+ MB\n"
     ]
    }
   ],
   "source": [
    "df.info()"
   ]
  },
  {
   "cell_type": "code",
   "execution_count": 7,
   "id": "2f9aab96-7cee-4e4a-a388-cf92b0d8b985",
   "metadata": {
    "tags": []
   },
   "outputs": [
    {
     "data": {
      "text/plain": [
       "gender               object\n",
       "SeniorCitizen         int64\n",
       "Partner              object\n",
       "Dependents           object\n",
       "tenure                int64\n",
       "PhoneService         object\n",
       "MultipleLines        object\n",
       "InternetService      object\n",
       "OnlineSecurity       object\n",
       "OnlineBackup         object\n",
       "DeviceProtection     object\n",
       "TechSupport          object\n",
       "StreamingTV          object\n",
       "StreamingMovies      object\n",
       "Contract             object\n",
       "PaperlessBilling     object\n",
       "PaymentMethod        object\n",
       "MonthlyCharges      float64\n",
       "TotalCharges         object\n",
       "Churn                object\n",
       "dtype: object"
      ]
     },
     "execution_count": 7,
     "metadata": {},
     "output_type": "execute_result"
    }
   ],
   "source": [
    "df.dtypes"
   ]
  },
  {
   "cell_type": "markdown",
   "id": "42fec405-a3aa-4bff-8a9f-f4f0d1d79bf0",
   "metadata": {},
   "source": [
    "# Veri Setinin Betimlenmesi"
   ]
  },
  {
   "cell_type": "code",
   "execution_count": 8,
   "id": "a5ec72eb-6703-40d7-bc7f-df8851afa300",
   "metadata": {},
   "outputs": [
    {
     "data": {
      "text/plain": [
       "(7043, 20)"
      ]
     },
     "execution_count": 8,
     "metadata": {},
     "output_type": "execute_result"
    }
   ],
   "source": [
    "df.shape"
   ]
  },
  {
   "cell_type": "code",
   "execution_count": 9,
   "id": "8f0b3e24-a31c-4175-a112-cf10d2042c2c",
   "metadata": {},
   "outputs": [
    {
     "data": {
      "text/plain": [
       "Index(['gender', 'SeniorCitizen', 'Partner', 'Dependents', 'tenure',\n",
       "       'PhoneService', 'MultipleLines', 'InternetService', 'OnlineSecurity',\n",
       "       'OnlineBackup', 'DeviceProtection', 'TechSupport', 'StreamingTV',\n",
       "       'StreamingMovies', 'Contract', 'PaperlessBilling', 'PaymentMethod',\n",
       "       'MonthlyCharges', 'TotalCharges', 'Churn'],\n",
       "      dtype='object')"
      ]
     },
     "execution_count": 9,
     "metadata": {},
     "output_type": "execute_result"
    }
   ],
   "source": [
    "df.columns"
   ]
  },
  {
   "cell_type": "code",
   "execution_count": 10,
   "id": "569253e0-4234-4568-920f-da70b119118f",
   "metadata": {},
   "outputs": [
    {
     "data": {
      "text/html": [
       "<div>\n",
       "<style scoped>\n",
       "    .dataframe tbody tr th:only-of-type {\n",
       "        vertical-align: middle;\n",
       "    }\n",
       "\n",
       "    .dataframe tbody tr th {\n",
       "        vertical-align: top;\n",
       "    }\n",
       "\n",
       "    .dataframe thead th {\n",
       "        text-align: right;\n",
       "    }\n",
       "</style>\n",
       "<table border=\"1\" class=\"dataframe\">\n",
       "  <thead>\n",
       "    <tr style=\"text-align: right;\">\n",
       "      <th></th>\n",
       "      <th>count</th>\n",
       "      <th>mean</th>\n",
       "      <th>std</th>\n",
       "      <th>min</th>\n",
       "      <th>25%</th>\n",
       "      <th>50%</th>\n",
       "      <th>75%</th>\n",
       "      <th>max</th>\n",
       "    </tr>\n",
       "  </thead>\n",
       "  <tbody>\n",
       "    <tr>\n",
       "      <th>SeniorCitizen</th>\n",
       "      <td>7043.0</td>\n",
       "      <td>0.162147</td>\n",
       "      <td>0.368612</td>\n",
       "      <td>0.00</td>\n",
       "      <td>0.0</td>\n",
       "      <td>0.00</td>\n",
       "      <td>0.00</td>\n",
       "      <td>1.00</td>\n",
       "    </tr>\n",
       "    <tr>\n",
       "      <th>tenure</th>\n",
       "      <td>7043.0</td>\n",
       "      <td>32.371149</td>\n",
       "      <td>24.559481</td>\n",
       "      <td>0.00</td>\n",
       "      <td>9.0</td>\n",
       "      <td>29.00</td>\n",
       "      <td>55.00</td>\n",
       "      <td>72.00</td>\n",
       "    </tr>\n",
       "    <tr>\n",
       "      <th>MonthlyCharges</th>\n",
       "      <td>7043.0</td>\n",
       "      <td>64.761692</td>\n",
       "      <td>30.090047</td>\n",
       "      <td>18.25</td>\n",
       "      <td>35.5</td>\n",
       "      <td>70.35</td>\n",
       "      <td>89.85</td>\n",
       "      <td>118.75</td>\n",
       "    </tr>\n",
       "  </tbody>\n",
       "</table>\n",
       "</div>"
      ],
      "text/plain": [
       "                 count       mean        std    min   25%    50%    75%  \\\n",
       "SeniorCitizen   7043.0   0.162147   0.368612   0.00   0.0   0.00   0.00   \n",
       "tenure          7043.0  32.371149  24.559481   0.00   9.0  29.00  55.00   \n",
       "MonthlyCharges  7043.0  64.761692  30.090047  18.25  35.5  70.35  89.85   \n",
       "\n",
       "                   max  \n",
       "SeniorCitizen     1.00  \n",
       "tenure           72.00  \n",
       "MonthlyCharges  118.75  "
      ]
     },
     "execution_count": 10,
     "metadata": {},
     "output_type": "execute_result"
    }
   ],
   "source": [
    "df.describe().T"
   ]
  },
  {
   "cell_type": "code",
   "execution_count": 11,
   "id": "e659b23b-64cf-49db-bbd3-0051219feef8",
   "metadata": {},
   "outputs": [
    {
     "data": {
      "text/plain": [
       "dtype('O')"
      ]
     },
     "execution_count": 11,
     "metadata": {},
     "output_type": "execute_result"
    }
   ],
   "source": [
    "# sayısal sütunun object türünde olduğunu görmekteyiz.\n",
    "df['TotalCharges'].dtypes"
   ]
  },
  {
   "cell_type": "code",
   "execution_count": 12,
   "id": "a0a0b74c-2843-4b40-9b81-39f5b1aeabfd",
   "metadata": {},
   "outputs": [],
   "source": [
    "#totalcharges içinde ' ' ifadesi olduğu için object tipinde. \n",
    "# ' ' olan satırları droplayalım ve totalcharges değişkeninin tipini float yapalım\n",
    "indexes=[]\n",
    "\n",
    "for index,i in enumerate(df[\"TotalCharges\"]):\n",
    "    if i==' ':\n",
    "        indexes.append(index)\n",
    "        \n",
    "df.drop([*indexes], axis=0, inplace=True)\n",
    "df['TotalCharges'] = df['TotalCharges'].astype(\"float64\")"
   ]
  },
  {
   "cell_type": "code",
   "execution_count": 13,
   "id": "8c2c3f39-f746-46f8-ab99-6a734a74cb4f",
   "metadata": {},
   "outputs": [],
   "source": [
    "#isimlerin görselleştirmede eksenlere sığması için isim değişikliği \n",
    "df_pay=[]\n",
    "for value in df['PaymentMethod']:\n",
    "    if value == \"Electronic check\":\n",
    "        value=\"Electronic\"\n",
    "    elif value ==\"Mailed check\":\n",
    "        value=\"Mailed\"\n",
    "    elif value ==\"Bank transfer (automatic)\":\n",
    "        value=\"Bank T.\"\n",
    "    elif value==\"Credit card (automatic)\":\n",
    "        value=\"C.Card\"\n",
    "    df_pay.append(value)\n",
    "        \n",
    "df['PaymentMethod']=df_pay  "
   ]
  },
  {
   "cell_type": "markdown",
   "id": "e59d1c67-8788-459b-a196-02503a1d40d9",
   "metadata": {},
   "source": [
    "## Eksik Değerlerin İncelenmesi"
   ]
  },
  {
   "cell_type": "code",
   "execution_count": 14,
   "id": "1bf5fdff-48b4-4437-8394-d135a78ad083",
   "metadata": {},
   "outputs": [
    {
     "data": {
      "text/plain": [
       "False"
      ]
     },
     "execution_count": 14,
     "metadata": {},
     "output_type": "execute_result"
    }
   ],
   "source": [
    "df.isnull().values.any()"
   ]
  },
  {
   "cell_type": "code",
   "execution_count": 15,
   "id": "65b8d465-9a02-4f66-bfd5-84cb0fb8d46d",
   "metadata": {},
   "outputs": [
    {
     "data": {
      "text/plain": [
       "gender              0\n",
       "SeniorCitizen       0\n",
       "Partner             0\n",
       "Dependents          0\n",
       "tenure              0\n",
       "PhoneService        0\n",
       "MultipleLines       0\n",
       "InternetService     0\n",
       "OnlineSecurity      0\n",
       "OnlineBackup        0\n",
       "DeviceProtection    0\n",
       "TechSupport         0\n",
       "StreamingTV         0\n",
       "StreamingMovies     0\n",
       "Contract            0\n",
       "PaperlessBilling    0\n",
       "PaymentMethod       0\n",
       "MonthlyCharges      0\n",
       "TotalCharges        0\n",
       "Churn               0\n",
       "dtype: int64"
      ]
     },
     "execution_count": 15,
     "metadata": {},
     "output_type": "execute_result"
    }
   ],
   "source": [
    "df.isnull().sum()"
   ]
  },
  {
   "cell_type": "markdown",
   "id": "9aef58aa-ea04-4c6b-a90a-ab7e7c0fb8cd",
   "metadata": {},
   "source": [
    "## Aykırı değerlerin incelenmesi "
   ]
  },
  {
   "cell_type": "code",
   "execution_count": 16,
   "id": "07cc2d4d-cca1-41c1-98c1-5889078753fb",
   "metadata": {},
   "outputs": [
    {
     "data": {
      "image/png": "[encoded data removed]",
      "text/plain": [
       "<Figure size 432x288 with 1 Axes>"
      ]
     },
     "metadata": {
      "needs_background": "light"
     },
     "output_type": "display_data"
    }
   ],
   "source": [
    "outlier_det_dict = {'tenure':df['tenure'] ,\"MonthlyCharges\":df[\"MonthlyCharges\"],\"TotalCharges\":df[\"TotalCharges\"]}\n",
    "fig, ax = plt.subplots()\n",
    "ax.boxplot(outlier_det_dict.values())\n",
    "ax.set_xticklabels(outlier_det_dict.keys());"
   ]
  },
  {
   "cell_type": "markdown",
   "id": "bb0233f8-6db9-4f58-8dba-45a3977b965e",
   "metadata": {},
   "source": [
    "## Target incelemesi"
   ]
  },
  {
   "cell_type": "code",
   "execution_count": 17,
   "id": "4e35fbaf-3b0f-4b8c-aff6-4e3b1a88cafe",
   "metadata": {},
   "outputs": [
    {
     "data": {
      "image/png": "[encoded data removed]",
      "text/plain": [
       "<Figure size 432x288 with 1 Axes>"
      ]
     },
     "metadata": {
      "needs_background": "light"
     },
     "output_type": "display_data"
    }
   ],
   "source": [
    "#target dengesiz dağılıyor.\n",
    "plt.bar(df[\"Churn\"].value_counts().index, df[\"Churn\"].value_counts(), color='maroon')\n",
    "\n",
    "plt.title(\"Target Variable Distribution\")\n",
    "plt.show()"
   ]
  },
  {
   "cell_type": "markdown",
   "id": "d33d4cc2-4fcf-4c43-9a88-7cf342bb4f87",
   "metadata": {
    "tags": []
   },
   "source": [
    "# Görselleştirme"
   ]
  },
  {
   "cell_type": "code",
   "execution_count": 18,
   "id": "a68eb716-fc37-4659-8dd2-38f4353b0f6b",
   "metadata": {
    "tags": []
   },
   "outputs": [
    {
     "data": {
      "image/png": "[encoded data removed]",
      "text/plain": [
       "<Figure size 1296x1296 with 15 Axes>"
      ]
     },
     "metadata": {
      "needs_background": "light"
     },
     "output_type": "display_data"
    }
   ],
   "source": [
    "df_cat=list((i for i in df.columns if df[i].dtype==\"O\" and i!=\"Churn\"))\n",
    "\n",
    "a = 5  # number of rows\n",
    "b = 5  # number of columns\n",
    "c = 1\n",
    "\n",
    "fig = plt.figure(figsize=(18,18))\n",
    "\n",
    "for i in df_cat:\n",
    "    \n",
    "    plt.subplot(a, b, c)\n",
    "    sns.countplot(x=i,data=df,alpha=0.3)\n",
    "    sns.countplot(x=i,hue=\"Churn\",data=df);\n",
    "    c=c+1\n",
    "    \n",
    "plt.tight_layout()\n",
    "plt.show()"
   ]
  },
  {
   "cell_type": "code",
   "execution_count": 31,
   "id": "35d299be-ca6c-433e-b7c4-8d8e504a48f1",
   "metadata": {},
   "outputs": [
    {
     "data": {
      "text/plain": [
       "Text(0.5, 1.0, '% of Gender')"
      ]
     },
     "execution_count": 31,
     "metadata": {},
     "output_type": "execute_result"
    },
    {
     "data": {
      "image/png": "[encoded data removed]",
      "text/plain": [
       "<Figure size 360x360 with 1 Axes>"
      ]
     },
     "metadata": {},
     "output_type": "display_data"
    }
   ],
   "source": [
    "# gender dağılımı\n",
    "ax = (df['gender'].value_counts()*100.0 /len(df))\\\n",
    ".plot.pie(autopct='%.1f%%', labels = df[\"gender\"].value_counts().index,figsize =(5,5), fontsize = 12 )                                                                           \n",
    "ax.set_ylabel('Gender',fontsize = 12)\n",
    "ax.set_title('% of Gender', fontsize = 12)"
   ]
  },
  {
   "cell_type": "code",
   "execution_count": 33,
   "id": "70f08dae-c348-4b4b-ab89-6324adf325fb",
   "metadata": {},
   "outputs": [
    {
     "data": {
      "text/plain": [
       "Text(0.5, 1.0, '% of Senior Citizens')"
      ]
     },
     "execution_count": 33,
     "metadata": {},
     "output_type": "execute_result"
    },
    {
     "data": {
      "image/png": "[encoded data removed]",
      "text/plain": [
       "<Figure size 360x360 with 1 Axes>"
      ]
     },
     "metadata": {},
     "output_type": "display_data"
    }
   ],
   "source": [
    "#SeniorCitizen dağılımı\n",
    "ax = (df['SeniorCitizen'].value_counts()*100.0 /len(df))\\\n",
    ".plot.pie(autopct='%.1f%%', labels = ['No', 'Yes'],figsize =(5,5), fontsize = 12 )                                                                           \n",
    "ax.set_ylabel('Senior Citizens',fontsize = 12)\n",
    "ax.set_title('% of Senior Citizens', fontsize = 12)"
   ]
  },
  {
   "cell_type": "code",
   "execution_count": 37,
   "id": "6ed5ab11-738f-457d-bd28-47a20ed99569",
   "metadata": {},
   "outputs": [
    {
     "name": "stderr",
     "output_type": "stream",
     "text": [
      "D:\\Anaconda\\lib\\site-packages\\seaborn\\distributions.py:2619: FutureWarning: `distplot` is a deprecated function and will be removed in a future version. Please adapt your code to use either `displot` (a figure-level function with similar flexibility) or `histplot` (an axes-level function for histograms).\n",
      "  warnings.warn(msg, FutureWarning)\n"
     ]
    },
    {
     "data": {
      "image/png": "[encoded data removed]",
      "text/plain": [
       "<Figure size 432x288 with 1 Axes>"
      ]
     },
     "metadata": {
      "needs_background": "light"
     },
     "output_type": "display_data"
    }
   ],
   "source": [
    "#Tenure incelemesi\n",
    "ax = sns.distplot(df['tenure'], hist=True);\n",
    "ax.set_ylabel('# of Customers');\n",
    "ax.set_xlabel('Tenure (months)');\n",
    "ax.set_title('# of Customers by their tenure');"
   ]
  },
  {
   "cell_type": "markdown",
   "id": "c6621e57-ec19-473a-8287-534b786e34df",
   "metadata": {
    "tags": []
   },
   "source": [
    "# Veri ön işleme kısmı "
   ]
  },
  {
   "cell_type": "code",
   "execution_count": 172,
   "id": "fe47b588-d24b-4f1e-a989-c5ee0af76803",
   "metadata": {},
   "outputs": [],
   "source": [
    "df2=df.copy()"
   ]
  },
  {
   "cell_type": "markdown",
   "id": "a3e224a2-7699-4e7f-8f04-57843c9341b3",
   "metadata": {},
   "source": [
    "## Sürekli değişkenler ile uğraşma"
   ]
  },
  {
   "cell_type": "code",
   "execution_count": 173,
   "id": "12921f89-7f8a-4964-ae2a-c13fa86d8cf1",
   "metadata": {},
   "outputs": [],
   "source": [
    "cols_to_scale = ['tenure','MonthlyCharges',\"TotalCharges\"]\n",
    "\n",
    "scaler = MinMaxScaler()\n",
    "\n",
    "df2[cols_to_scale] = scaler.fit_transform(df2[cols_to_scale])"
   ]
  },
  {
   "cell_type": "markdown",
   "id": "e318ea51-a847-4be7-b3d0-dd61d1c31c96",
   "metadata": {
    "tags": []
   },
   "source": [
    "## Kategorik değişkenler ile uğraşma "
   ]
  },
  {
   "cell_type": "code",
   "execution_count": 174,
   "id": "b5c0b5bf-2f29-475a-89f4-8aee06d62cde",
   "metadata": {},
   "outputs": [],
   "source": [
    "yes_no_columns = ['Partner','Dependents','PhoneService','PaperlessBilling','Churn']\n",
    "for col in yes_no_columns:\n",
    "    df2[col].replace({'Yes': 1,'No': 0},inplace=True)"
   ]
  },
  {
   "cell_type": "code",
   "execution_count": 175,
   "id": "cf0bd504-4c5a-4fb8-ac7a-987f25dc13cf",
   "metadata": {
    "tags": []
   },
   "outputs": [
    {
     "data": {
      "text/plain": [
       "['gender',\n",
       " 'MultipleLines',\n",
       " 'InternetService',\n",
       " 'OnlineSecurity',\n",
       " 'OnlineBackup',\n",
       " 'DeviceProtection',\n",
       " 'TechSupport',\n",
       " 'StreamingTV',\n",
       " 'StreamingMovies',\n",
       " 'Contract',\n",
       " 'PaymentMethod']"
      ]
     },
     "execution_count": 175,
     "metadata": {},
     "output_type": "execute_result"
    }
   ],
   "source": [
    "cat_cols=list((i for i in df2.columns if df2[i].dtype==\"O\"))\n",
    "cat_cols"
   ]
  },
  {
   "cell_type": "code",
   "execution_count": 176,
   "id": "49468126-1d93-4d50-9dd2-26f7a3fbad68",
   "metadata": {
    "tags": []
   },
   "outputs": [],
   "source": [
    "df2=pd.get_dummies(data=df2,columns=cat_cols,drop_first=True)"
   ]
  },
  {
   "cell_type": "markdown",
   "id": "b1afc94e-6395-4c72-85fc-fd08d83c66db",
   "metadata": {
    "tags": []
   },
   "source": [
    "# Görselleştirme 2"
   ]
  },
  {
   "cell_type": "code",
   "execution_count": 179,
   "id": "28dcbaed-ed33-410d-8dd4-7544405a241a",
   "metadata": {
    "tags": []
   },
   "outputs": [
    {
     "name": "stderr",
     "output_type": "stream",
     "text": [
      "C:\\Users\\PC\\AppData\\Local\\Temp\\ipykernel_14928\\3422374035.py:7: FutureWarning: Passing a set as an indexer is deprecated and will raise in a future version. Use a list instead.\n",
      "  corr= df2[cols].corr()\n"
     ]
    },
    {
     "data": {
      "image/png": "[encoded data removed]",
      "text/plain": [
       "<Figure size 864x864 with 2 Axes>"
      ]
     },
     "metadata": {
      "needs_background": "light"
     },
     "output_type": "display_data"
    }
   ],
   "source": [
    "cols=[\"Churn\"]\n",
    "for i in df2.columns:\n",
    "    for j in df2.columns:\n",
    "        if abs(df2[i].corr(df2[j]))>0.5 and i!=j:\n",
    "            cols.append(i)\n",
    "cols=set(cols)            \n",
    "corr= df2[cols].corr()\n",
    "\n",
    "matrix = np.triu(corr)\n",
    "\n",
    "fig, ax = plt.subplots(figsize=(12,12))         \n",
    "sns.heatmap(corr,annot=True,ax=ax,mask=matrix);"
   ]
  },
  {
   "cell_type": "code",
   "execution_count": 181,
   "id": "d8ab1eb2-c1b0-4966-a820-092403193fa2",
   "metadata": {},
   "outputs": [
    {
     "data": {
      "text/plain": [
       "<AxesSubplot:>"
      ]
     },
     "execution_count": 181,
     "metadata": {},
     "output_type": "execute_result"
    },
    {
     "data": {
      "image/png": "[encoded data removed]",
      "text/plain": [
       "<Figure size 1080x576 with 1 Axes>"
      ]
     },
     "metadata": {
      "needs_background": "light"
     },
     "output_type": "display_data"
    }
   ],
   "source": [
    "plt.figure(figsize=(15,8))\n",
    "df2.corr()['Churn'].sort_values(ascending = False).plot(kind='barh')"
   ]
  },
  {
   "cell_type": "markdown",
   "id": "24c6fcd0-3452-4e66-9db3-ea740bc3c7a6",
   "metadata": {},
   "source": [
    "# Ensemble Method"
   ]
  },
  {
   "cell_type": "markdown",
   "id": "f62cc6bc-9952-43fa-908d-a9915a72dd06",
   "metadata": {},
   "source": [
    "Ensemble method bağımlı değişkenin dengesiz dağılımında kullanılan yöntemlerden birisidir.Tek bir modele kıyasla daha güçlü ve genellenebilir sonuçlar elde etmek amacıyla birden fazla baz modelin tahmin sonuçlarını birleştirir. Bu çalışmada dengesiz dağılan bağımlı değişkendeki minör sınıfın tamamını, majör sınıfı bölüp her bir bölmeyle minör sınıfımızı birleştirdik ve oluşan her yeni veri seti üzerinden modeller kurduk."
   ]
  },
  {
   "cell_type": "markdown",
   "id": "4a63fc03-a90a-4e14-9b3d-2a0945b5c9a8",
   "metadata": {
    "tags": []
   },
   "source": [
    "## Datanın bağımlı ve bağımsız değişken olarak ayrılması"
   ]
  },
  {
   "cell_type": "code",
   "execution_count": 120,
   "id": "f6b1954f-a4b5-4e29-bbc9-45eb35de4144",
   "metadata": {},
   "outputs": [],
   "source": [
    "X = df.drop('Churn',axis='columns')\n",
    "y = df['Churn']"
   ]
  },
  {
   "cell_type": "markdown",
   "id": "78b1f2ba-6cc5-4b2f-94b0-b92e22543ccb",
   "metadata": {},
   "source": [
    "## Train-test split"
   ]
  },
  {
   "cell_type": "code",
   "execution_count": 121,
   "id": "971480b1-bc8c-49f2-a5b2-3bd13fe17c70",
   "metadata": {},
   "outputs": [],
   "source": [
    "X_train, X_test, y_train, y_test = train_test_split(X, y, test_size=0.22, random_state=15, stratify=y)"
   ]
  },
  {
   "cell_type": "markdown",
   "id": "5fa81cdb-024b-4641-b336-28951a5e056a",
   "metadata": {},
   "source": [
    "## Bağımlı değişkenin sınıflarına ayrılması"
   ]
  },
  {
   "cell_type": "code",
   "execution_count": 122,
   "id": "0f13ad76-5c67-4b34-b025-6662563f8824",
   "metadata": {},
   "outputs": [],
   "source": [
    "#X_train ve y_train'den oluşturulan bu dataframeler 3 ayrı parçaya bölünüp her birinin üzerinde model kurulacak.\n",
    "df3 = X_train.copy()\n",
    "df3['Churn'] = y_train\n",
    "\n",
    "df3_class0 = df3[df3.Churn==0]\n",
    "df3_class1 = df3[df3.Churn==1]"
   ]
  },
  {
   "cell_type": "code",
   "execution_count": 123,
   "id": "8ad8cfb9-33d6-4e19-bef8-1df191cb91df",
   "metadata": {},
   "outputs": [
    {
     "data": {
      "text/plain": [
       "0    4026\n",
       "1    1458\n",
       "Name: Churn, dtype: int64"
      ]
     },
     "execution_count": 123,
     "metadata": {},
     "output_type": "execute_result"
    }
   ],
   "source": [
    "y_train.value_counts()"
   ]
  },
  {
   "cell_type": "markdown",
   "id": "efe76668-4118-487c-857a-87aa0b507a85",
   "metadata": {},
   "source": [
    "## Model 1"
   ]
  },
  {
   "cell_type": "markdown",
   "id": "a01997ed-83da-4c4f-bd26-1d37bf391ebc",
   "metadata": {
    "tags": []
   },
   "source": [
    "### X_train, y_train'in bölünmesi"
   ]
  },
  {
   "cell_type": "code",
   "execution_count": 124,
   "id": "3bc10a56-17ed-4603-b8e8-c26d5ad64ec7",
   "metadata": {},
   "outputs": [],
   "source": [
    "# bağımlı değişkendeki minorty class ile majority class'ların sayısının eşit olmasını amaçlıyoruz.\n",
    "X_train, y_train = get_train_batch(df3_class0, df3_class1, 0, 1458)"
   ]
  },
  {
   "cell_type": "code",
   "execution_count": 125,
   "id": "5fdfc410-671e-4831-96d0-df2ea9c2ba36",
   "metadata": {},
   "outputs": [
    {
     "data": {
      "text/plain": [
       "0    1458\n",
       "1    1458\n",
       "Name: Churn, dtype: int64"
      ]
     },
     "execution_count": 125,
     "metadata": {},
     "output_type": "execute_result"
    }
   ],
   "source": [
    "#görüldüğü üzere dengeli dağılımı yakalayabildik.\n",
    "y_train.value_counts()"
   ]
  },
  {
   "cell_type": "markdown",
   "id": "2edb2aed-8126-494b-ba40-5e3dbf833e6d",
   "metadata": {
    "tags": []
   },
   "source": [
    "### Feature selection"
   ]
  },
  {
   "cell_type": "markdown",
   "id": "0c30bd9b-a13f-4f17-9c8e-634ca1212ae3",
   "metadata": {},
   "source": [
    "#### Değişkenlerin önem grafiği"
   ]
  },
  {
   "cell_type": "code",
   "execution_count": 126,
   "id": "eb2cb87a-af8d-404d-8a04-8a61cc19393c",
   "metadata": {},
   "outputs": [
    {
     "data": {
      "image/png": "[encoded data removed]",
      "text/plain": [
       "<Figure size 432x288 with 1 Axes>"
      ]
     },
     "metadata": {
      "needs_background": "light"
     },
     "output_type": "display_data"
    }
   ],
   "source": [
    "fs = SelectKBest(score_func=f_classif, k='all')\n",
    "\n",
    "X_selected=fs.fit_transform(X_train, y_train)\n",
    "\n",
    "plt.bar([i for i in range(len(fs.scores_))], fs.scores_)\n",
    "plt.show()"
   ]
  },
  {
   "cell_type": "markdown",
   "id": "1edf59ac-8742-4930-82ca-1ad1d3094018",
   "metadata": {
    "tags": []
   },
   "source": [
    "#### En önemli görülen değişkenlerin alınması"
   ]
  },
  {
   "cell_type": "code",
   "execution_count": 127,
   "id": "cd000a46-ee4c-46ef-a344-c2c18eecbf8b",
   "metadata": {},
   "outputs": [
    {
     "name": "stdout",
     "output_type": "stream",
     "text": [
      "(2916, 4)\n",
      "(2916,)\n",
      "(1548, 4)\n",
      "(1548,)\n"
     ]
    }
   ],
   "source": [
    "X_train_fs, X_test_fs = select_features(X_train, y_train, X_test,k=4)\n",
    "print(X_train_fs.shape)\n",
    "print(y_train.shape)\n",
    "print(X_test_fs.shape)\n",
    "print(y_test.shape)\n"
   ]
  },
  {
   "cell_type": "markdown",
   "id": "ca1addf3-2542-461c-a793-2386ed8806ce",
   "metadata": {},
   "source": [
    "### Şampiyon model seçimi"
   ]
  },
  {
   "cell_type": "code",
   "execution_count": 128,
   "id": "179df54c-e21d-4cdf-be64-387bf7e81cb7",
   "metadata": {
    "tags": []
   },
   "outputs": [
    {
     "name": "stdout",
     "output_type": "stream",
     "text": [
      "for log_reg models: \n",
      "\n",
      "              precision    recall  f1-score   support\n",
      "\n",
      "           0       0.89      0.69      0.78      1137\n",
      "           1       0.47      0.77      0.59       411\n",
      "\n",
      "    accuracy                           0.71      1548\n",
      "   macro avg       0.68      0.73      0.68      1548\n",
      "weighted avg       0.78      0.71      0.73      1548\n",
      "\n",
      "-------------------------\n",
      "for svc_linear models: \n",
      "\n",
      "              precision    recall  f1-score   support\n",
      "\n",
      "           0       0.89      0.69      0.77      1137\n",
      "           1       0.47      0.76      0.58       411\n",
      "\n",
      "    accuracy                           0.71      1548\n",
      "   macro avg       0.68      0.72      0.68      1548\n",
      "weighted avg       0.78      0.71      0.72      1548\n",
      "\n",
      "-------------------------\n",
      "for svc_rbf models: \n",
      "\n",
      "              precision    recall  f1-score   support\n",
      "\n",
      "           0       0.89      0.72      0.79      1137\n",
      "           1       0.49      0.75      0.59       411\n",
      "\n",
      "    accuracy                           0.72      1548\n",
      "   macro avg       0.69      0.73      0.69      1548\n",
      "weighted avg       0.78      0.72      0.74      1548\n",
      "\n",
      "-------------------------\n",
      "for knn models: \n",
      "\n",
      "              precision    recall  f1-score   support\n",
      "\n",
      "           0       0.86      0.71      0.78      1137\n",
      "           1       0.46      0.68      0.55       411\n",
      "\n",
      "    accuracy                           0.70      1548\n",
      "   macro avg       0.66      0.69      0.66      1548\n",
      "weighted avg       0.75      0.70      0.72      1548\n",
      "\n",
      "-------------------------\n",
      "for rf models: \n",
      "\n",
      "              precision    recall  f1-score   support\n",
      "\n",
      "           0       0.84      0.80      0.82      1137\n",
      "           1       0.51      0.58      0.54       411\n",
      "\n",
      "    accuracy                           0.74      1548\n",
      "   macro avg       0.67      0.69      0.68      1548\n",
      "weighted avg       0.75      0.74      0.74      1548\n",
      "\n",
      "-------------------------\n",
      "for nn models: \n",
      "\n",
      "              precision    recall  f1-score   support\n",
      "\n",
      "           0       0.89      0.72      0.79      1137\n",
      "           1       0.49      0.75      0.59       411\n",
      "\n",
      "    accuracy                           0.72      1548\n",
      "   macro avg       0.69      0.73      0.69      1548\n",
      "weighted avg       0.78      0.72      0.74      1548\n",
      "\n",
      "-------------------------\n",
      "for cart models: \n",
      "\n",
      "              precision    recall  f1-score   support\n",
      "\n",
      "           0       0.83      0.67      0.74      1137\n",
      "           1       0.41      0.63      0.49       411\n",
      "\n",
      "    accuracy                           0.66      1548\n",
      "   macro avg       0.62      0.65      0.62      1548\n",
      "weighted avg       0.72      0.66      0.68      1548\n",
      "\n",
      "-------------------------\n",
      "for GBM models: \n",
      "\n",
      "              precision    recall  f1-score   support\n",
      "\n",
      "           0       0.89      0.71      0.79      1137\n",
      "           1       0.49      0.76      0.59       411\n",
      "\n",
      "    accuracy                           0.72      1548\n",
      "   macro avg       0.69      0.73      0.69      1548\n",
      "weighted avg       0.78      0.72      0.74      1548\n",
      "\n",
      "-------------------------\n",
      "for light_gbm models: \n",
      "\n",
      "              precision    recall  f1-score   support\n",
      "\n",
      "           0       0.89      0.69      0.78      1137\n",
      "           1       0.47      0.76      0.58       411\n",
      "\n",
      "    accuracy                           0.71      1548\n",
      "   macro avg       0.68      0.72      0.68      1548\n",
      "weighted avg       0.78      0.71      0.72      1548\n",
      "\n",
      "-------------------------\n"
     ]
    }
   ],
   "source": [
    "models={\"log_reg\":LogisticRegression(max_iter=1000),\n",
    "        \"svc_linear\":svm.SVC(kernel='linear'),\n",
    "        \"svc_rbf\":svm.SVC(kernel='rbf'),\n",
    "        \"knn\":KNeighborsClassifier(),\n",
    "        \"rf\":RandomForestClassifier(max_depth=2, random_state=0),\n",
    "        \"nn\":MLPClassifier(max_iter=1000),\n",
    "        \"cart\":DecisionTreeClassifier(),\n",
    "        \"GBM\":GradientBoostingClassifier(), \n",
    "        \"light_gbm\":LGBMClassifier()}\n",
    "results={}\n",
    "\n",
    "for name,model in models.items():\n",
    "    model.fit(X_train_fs,y_train)\n",
    "    y_pred=model.predict(X_test_fs)\n",
    "    results[name]=roc_auc_score(y_test,y_pred)\n",
    "    print(\"for\",name,\"models: \\n\")\n",
    "    print(classification_report(y_test,y_pred))\n",
    "    print(\"-\"*25)"
   ]
  },
  {
   "cell_type": "markdown",
   "id": "dfd6dfc9-aaa4-42aa-be3e-da9ca4a8ee7e",
   "metadata": {
    "tags": []
   },
   "source": [
    "### Tahminleme"
   ]
  },
  {
   "cell_type": "code",
   "execution_count": 129,
   "id": "73eb534b-3a2f-4a86-b477-a464acdffaab",
   "metadata": {},
   "outputs": [
    {
     "name": "stdout",
     "output_type": "stream",
     "text": [
      "              precision    recall  f1-score   support\n",
      "\n",
      "           0       0.89      0.73      0.80      1137\n",
      "           1       0.50      0.75      0.60       411\n",
      "\n",
      "    accuracy                           0.74      1548\n",
      "   macro avg       0.70      0.74      0.70      1548\n",
      "weighted avg       0.79      0.74      0.75      1548\n",
      "\n"
     ]
    }
   ],
   "source": [
    "#log reg kur\n",
    "X_train, y_train = get_train_batch(df3_class0, df3_class1, 0, 1458)\n",
    "X_train_fs, X_test_fs = select_features(X_train, y_train, X_test,k=4)\n",
    "\n",
    "model=LogisticRegression(max_iter=500)\n",
    "model.fit(X_train_fs,y_train)\n",
    "y_pred1=model.predict(X_test_fs)\n",
    "print(classification_report(y_test,y_pred1))"
   ]
  },
  {
   "cell_type": "markdown",
   "id": "3a21bc54-4c11-4280-8b76-c1da067d67b0",
   "metadata": {
    "tags": []
   },
   "source": [
    "## Model 2"
   ]
  },
  {
   "cell_type": "markdown",
   "id": "3fe0020b-39c4-40cb-adf3-c543e7c1ec64",
   "metadata": {
    "tags": []
   },
   "source": [
    "### X_train, y_train'in bölünmesi"
   ]
  },
  {
   "cell_type": "code",
   "execution_count": 130,
   "id": "25b37b14-3d4f-4f01-b0de-31d91284872b",
   "metadata": {},
   "outputs": [],
   "source": [
    "X_train, y_train = get_train_batch(df3_class0, df3_class1, 1458, 2916)"
   ]
  },
  {
   "cell_type": "code",
   "execution_count": 131,
   "id": "ba6f52ef-b64b-426c-a208-4bf3933a0ebb",
   "metadata": {},
   "outputs": [
    {
     "data": {
      "text/plain": [
       "0    1458\n",
       "1    1458\n",
       "Name: Churn, dtype: int64"
      ]
     },
     "execution_count": 131,
     "metadata": {},
     "output_type": "execute_result"
    }
   ],
   "source": [
    "y_train.value_counts()"
   ]
  },
  {
   "cell_type": "markdown",
   "id": "0394f452-f099-447b-ab8e-182c5efe54e1",
   "metadata": {
    "tags": []
   },
   "source": [
    "### Feature selection"
   ]
  },
  {
   "cell_type": "markdown",
   "id": "488537bb-c1ac-4d63-b838-be97e5706a30",
   "metadata": {},
   "source": [
    "#### Değişkenlerin önem grafiği"
   ]
  },
  {
   "cell_type": "code",
   "execution_count": 132,
   "id": "6759c278-5dbe-441d-8d08-6064750917e3",
   "metadata": {},
   "outputs": [
    {
     "data": {
      "image/png": "[encoded data removed]",
      "text/plain": [
       "<Figure size 432x288 with 1 Axes>"
      ]
     },
     "metadata": {
      "needs_background": "light"
     },
     "output_type": "display_data"
    }
   ],
   "source": [
    "fs = SelectKBest(score_func=f_classif, k='all')\n",
    "\n",
    "X_selected=fs.fit_transform(X_train, y_train)\n",
    "\n",
    "plt.bar([i for i in range(len(fs.scores_))], fs.scores_)\n",
    "plt.show()\n"
   ]
  },
  {
   "cell_type": "markdown",
   "id": "2b7f2ac6-fd6c-4f84-9870-91cbd506832f",
   "metadata": {
    "tags": []
   },
   "source": [
    "#### En önemli görülen değişkenlerin alınması"
   ]
  },
  {
   "cell_type": "code",
   "execution_count": 133,
   "id": "4beb8823-7d7b-492c-925f-d45b70ea5dd8",
   "metadata": {},
   "outputs": [
    {
     "name": "stdout",
     "output_type": "stream",
     "text": [
      "(2916, 4)\n",
      "(2916,)\n",
      "(1548, 4)\n",
      "(1548,)\n"
     ]
    }
   ],
   "source": [
    "X_train_fs, X_test_fs = select_features(X_train, y_train, X_test,k=4)\n",
    "print(X_train_fs.shape)\n",
    "print(y_train.shape)\n",
    "print(X_test_fs.shape)\n",
    "print(y_test.shape)"
   ]
  },
  {
   "cell_type": "markdown",
   "id": "fac958f6-b8f7-49d5-830f-536b719ed08c",
   "metadata": {},
   "source": [
    "### Şampiyon model seçimi"
   ]
  },
  {
   "cell_type": "code",
   "execution_count": 134,
   "id": "bc289fcb-0755-47e8-952f-75b5406f9b3b",
   "metadata": {
    "tags": []
   },
   "outputs": [
    {
     "name": "stdout",
     "output_type": "stream",
     "text": [
      "for log_reg models: \n",
      "\n",
      "              precision    recall  f1-score   support\n",
      "\n",
      "           0       0.89      0.71      0.79      1137\n",
      "           1       0.49      0.75      0.59       411\n",
      "\n",
      "    accuracy                           0.72      1548\n",
      "   macro avg       0.69      0.73      0.69      1548\n",
      "weighted avg       0.78      0.72      0.74      1548\n",
      "\n",
      "-------------------------\n",
      "for svc_linear models: \n",
      "\n",
      "              precision    recall  f1-score   support\n",
      "\n",
      "           0       0.89      0.70      0.78      1137\n",
      "           1       0.48      0.75      0.58       411\n",
      "\n",
      "    accuracy                           0.71      1548\n",
      "   macro avg       0.68      0.73      0.68      1548\n",
      "weighted avg       0.78      0.71      0.73      1548\n",
      "\n",
      "-------------------------\n",
      "for svc_rbf models: \n",
      "\n",
      "              precision    recall  f1-score   support\n",
      "\n",
      "           0       0.91      0.67      0.77      1137\n",
      "           1       0.48      0.82      0.60       411\n",
      "\n",
      "    accuracy                           0.71      1548\n",
      "   macro avg       0.69      0.75      0.69      1548\n",
      "weighted avg       0.80      0.71      0.73      1548\n",
      "\n",
      "-------------------------\n",
      "for knn models: \n",
      "\n",
      "              precision    recall  f1-score   support\n",
      "\n",
      "           0       0.87      0.73      0.79      1137\n",
      "           1       0.48      0.71      0.58       411\n",
      "\n",
      "    accuracy                           0.72      1548\n",
      "   macro avg       0.68      0.72      0.69      1548\n",
      "weighted avg       0.77      0.72      0.74      1548\n",
      "\n",
      "-------------------------\n",
      "for rf models: \n",
      "\n",
      "              precision    recall  f1-score   support\n",
      "\n",
      "           0       0.93      0.56      0.70      1137\n",
      "           1       0.42      0.89      0.57       411\n",
      "\n",
      "    accuracy                           0.65      1548\n",
      "   macro avg       0.68      0.72      0.63      1548\n",
      "weighted avg       0.80      0.65      0.66      1548\n",
      "\n",
      "-------------------------\n",
      "for nn models: \n",
      "\n",
      "              precision    recall  f1-score   support\n",
      "\n",
      "           0       0.90      0.70      0.78      1137\n",
      "           1       0.48      0.78      0.59       411\n",
      "\n",
      "    accuracy                           0.72      1548\n",
      "   macro avg       0.69      0.74      0.69      1548\n",
      "weighted avg       0.79      0.72      0.73      1548\n",
      "\n",
      "-------------------------\n",
      "for cart models: \n",
      "\n",
      "              precision    recall  f1-score   support\n",
      "\n",
      "           0       0.84      0.72      0.77      1137\n",
      "           1       0.45      0.64      0.52       411\n",
      "\n",
      "    accuracy                           0.69      1548\n",
      "   macro avg       0.65      0.68      0.65      1548\n",
      "weighted avg       0.74      0.69      0.71      1548\n",
      "\n",
      "-------------------------\n",
      "for GBM models: \n",
      "\n",
      "              precision    recall  f1-score   support\n",
      "\n",
      "           0       0.91      0.70      0.79      1137\n",
      "           1       0.49      0.81      0.61       411\n",
      "\n",
      "    accuracy                           0.73      1548\n",
      "   macro avg       0.70      0.75      0.70      1548\n",
      "weighted avg       0.80      0.73      0.74      1548\n",
      "\n",
      "-------------------------\n",
      "for light_gbm models: \n",
      "\n",
      "              precision    recall  f1-score   support\n",
      "\n",
      "           0       0.88      0.70      0.78      1137\n",
      "           1       0.47      0.73      0.57       411\n",
      "\n",
      "    accuracy                           0.71      1548\n",
      "   macro avg       0.67      0.71      0.67      1548\n",
      "weighted avg       0.77      0.71      0.72      1548\n",
      "\n",
      "-------------------------\n"
     ]
    }
   ],
   "source": [
    "models={\"log_reg\":LogisticRegression(),\n",
    "        \"svc_linear\":svm.SVC(kernel='linear'),\n",
    "        \"svc_rbf\":svm.SVC(kernel='rbf'),\n",
    "        \"knn\":KNeighborsClassifier(),\n",
    "        \"rf\":RandomForestClassifier(max_depth=2, random_state=0),\n",
    "        \"nn\":MLPClassifier(),\n",
    "        \"cart\":DecisionTreeClassifier(),\n",
    "        \"GBM\":GradientBoostingClassifier(), \n",
    "        \"light_gbm\":LGBMClassifier()}\n",
    "results={}\n",
    "\n",
    "for name,model in models.items():\n",
    "    model.fit(X_train_fs,y_train)\n",
    "    y_pred=model.predict(X_test_fs)\n",
    "    results[name]=roc_auc_score(y_test,y_pred)\n",
    "    print(\"for\",name,\"models: \\n\")\n",
    "    print(classification_report(y_test,y_pred))\n",
    "    print(\"-\"*25)"
   ]
  },
  {
   "cell_type": "markdown",
   "id": "29c24e79-5fa5-46c1-8dca-02bdf8c2de2f",
   "metadata": {
    "tags": []
   },
   "source": [
    "### Tahminleme"
   ]
  },
  {
   "cell_type": "code",
   "execution_count": 135,
   "id": "c0d51888-c260-4d9f-9c73-d6bfad4d6734",
   "metadata": {},
   "outputs": [
    {
     "name": "stdout",
     "output_type": "stream",
     "text": [
      "              precision    recall  f1-score   support\n",
      "\n",
      "           0       0.89      0.71      0.79      1137\n",
      "           1       0.49      0.75      0.59       411\n",
      "\n",
      "    accuracy                           0.72      1548\n",
      "   macro avg       0.69      0.73      0.69      1548\n",
      "weighted avg       0.78      0.72      0.74      1548\n",
      "\n"
     ]
    }
   ],
   "source": [
    "X_train, y_train = get_train_batch(df3_class0, df3_class1, 1458, 2916)\n",
    "X_train_fs, X_test_fs = select_features(X_train, y_train, X_test,k=4)\n",
    "\n",
    "model=LogisticRegression(max_iter=500)\n",
    "model.fit(X_train_fs,y_train)\n",
    "y_pred2=model.predict(X_test_fs)\n",
    "print(classification_report(y_test,y_pred2))"
   ]
  },
  {
   "cell_type": "markdown",
   "id": "a79f3969-3f08-4840-8026-a57b3dc7cab6",
   "metadata": {
    "tags": []
   },
   "source": [
    "## Model 3"
   ]
  },
  {
   "cell_type": "markdown",
   "id": "7865f566-1ca3-4565-9c38-5188f09d8c07",
   "metadata": {
    "tags": []
   },
   "source": [
    "### X_train, y_train'in bölünmesi"
   ]
  },
  {
   "cell_type": "code",
   "execution_count": 136,
   "id": "b453f653-4723-4600-88c2-5cda70b7115f",
   "metadata": {},
   "outputs": [],
   "source": [
    "X_train, y_train = get_train_batch(df3_class0, df3_class1, 2916, 4026)"
   ]
  },
  {
   "cell_type": "code",
   "execution_count": 137,
   "id": "39e21402-bd26-48ce-9189-72a99b2d4a7e",
   "metadata": {},
   "outputs": [
    {
     "data": {
      "text/plain": [
       "1    1458\n",
       "0    1110\n",
       "Name: Churn, dtype: int64"
      ]
     },
     "execution_count": 137,
     "metadata": {},
     "output_type": "execute_result"
    }
   ],
   "source": [
    "y_train.value_counts()"
   ]
  },
  {
   "cell_type": "markdown",
   "id": "3edfc84c-cd31-4b62-b79f-e8d4eab07b4a",
   "metadata": {
    "tags": []
   },
   "source": [
    "### Feature selection"
   ]
  },
  {
   "cell_type": "markdown",
   "id": "6af0a8f0-069a-4e6c-9b17-ca43750b6278",
   "metadata": {},
   "source": [
    "#### Değişkenlerin önem grafiği"
   ]
  },
  {
   "cell_type": "code",
   "execution_count": 138,
   "id": "ca10d91b-6d77-4a75-960e-d9a9ac4b46c8",
   "metadata": {},
   "outputs": [
    {
     "data": {
      "image/png": "[encoded data removed]",
      "text/plain": [
       "<Figure size 432x288 with 1 Axes>"
      ]
     },
     "metadata": {
      "needs_background": "light"
     },
     "output_type": "display_data"
    }
   ],
   "source": [
    "fs = SelectKBest(score_func=f_classif, k='all')\n",
    "\n",
    "X_selected=fs.fit_transform(X_train, y_train)\n",
    "\n",
    "plt.bar([i for i in range(len(fs.scores_))], fs.scores_)\n",
    "plt.show()\n"
   ]
  },
  {
   "cell_type": "markdown",
   "id": "d3b64bd7-1ac5-4123-815c-a66b1f6ddfaa",
   "metadata": {
    "tags": []
   },
   "source": [
    "#### En önemli görülen değişkenlerin alınması"
   ]
  },
  {
   "cell_type": "code",
   "execution_count": 139,
   "id": "4c807d25-e504-4e28-8ced-cc3efd122223",
   "metadata": {},
   "outputs": [
    {
     "name": "stdout",
     "output_type": "stream",
     "text": [
      "(2568, 4)\n",
      "(2568,)\n",
      "(1548, 4)\n",
      "(1548,)\n"
     ]
    }
   ],
   "source": [
    "X_train_fs, X_test_fs = select_features(X_train, y_train, X_test,k=4)\n",
    "print(X_train_fs.shape)\n",
    "print(y_train.shape)\n",
    "print(X_test_fs.shape)\n",
    "print(y_test.shape)"
   ]
  },
  {
   "cell_type": "markdown",
   "id": "0488b05f-d896-4976-b94a-501b8239f801",
   "metadata": {},
   "source": [
    "### Model kurulması şampiyon model seçimi"
   ]
  },
  {
   "cell_type": "code",
   "execution_count": 140,
   "id": "b256811c-9127-4148-9ed0-06dc137d1b12",
   "metadata": {
    "collapsed": true,
    "jupyter": {
     "outputs_hidden": true
    },
    "tags": []
   },
   "outputs": [
    {
     "name": "stdout",
     "output_type": "stream",
     "text": [
      "for log_reg models: \n",
      "\n",
      "              precision    recall  f1-score   support\n",
      "\n",
      "           0       0.91      0.63      0.74      1137\n",
      "           1       0.45      0.83      0.58       411\n",
      "\n",
      "    accuracy                           0.68      1548\n",
      "   macro avg       0.68      0.73      0.66      1548\n",
      "weighted avg       0.79      0.68      0.70      1548\n",
      "\n",
      "-------------------------\n",
      "for svc_linear models: \n",
      "\n",
      "              precision    recall  f1-score   support\n",
      "\n",
      "           0       0.92      0.58      0.71      1137\n",
      "           1       0.43      0.86      0.57       411\n",
      "\n",
      "    accuracy                           0.65      1548\n",
      "   macro avg       0.67      0.72      0.64      1548\n",
      "weighted avg       0.79      0.65      0.67      1548\n",
      "\n",
      "-------------------------\n",
      "for svc_rbf models: \n",
      "\n",
      "              precision    recall  f1-score   support\n",
      "\n",
      "           0       0.91      0.58      0.71      1137\n",
      "           1       0.42      0.85      0.56       411\n",
      "\n",
      "    accuracy                           0.65      1548\n",
      "   macro avg       0.67      0.71      0.64      1548\n",
      "weighted avg       0.78      0.65      0.67      1548\n",
      "\n",
      "-------------------------\n",
      "for knn models: \n",
      "\n",
      "              precision    recall  f1-score   support\n",
      "\n",
      "           0       0.90      0.64      0.74      1137\n",
      "           1       0.44      0.80      0.57       411\n",
      "\n",
      "    accuracy                           0.68      1548\n",
      "   macro avg       0.67      0.72      0.66      1548\n",
      "weighted avg       0.77      0.68      0.70      1548\n",
      "\n",
      "-------------------------\n",
      "for rf models: \n",
      "\n",
      "              precision    recall  f1-score   support\n",
      "\n",
      "           0       0.90      0.59      0.71      1137\n",
      "           1       0.42      0.82      0.55       411\n",
      "\n",
      "    accuracy                           0.65      1548\n",
      "   macro avg       0.66      0.70      0.63      1548\n",
      "weighted avg       0.77      0.65      0.67      1548\n",
      "\n",
      "-------------------------\n",
      "for nn models: \n",
      "\n",
      "              precision    recall  f1-score   support\n",
      "\n",
      "           0       0.91      0.61      0.73      1137\n",
      "           1       0.44      0.84      0.58       411\n",
      "\n",
      "    accuracy                           0.67      1548\n",
      "   macro avg       0.68      0.73      0.65      1548\n",
      "weighted avg       0.79      0.67      0.69      1548\n",
      "\n",
      "-------------------------\n",
      "for cart models: \n",
      "\n",
      "              precision    recall  f1-score   support\n",
      "\n",
      "           0       0.85      0.63      0.72      1137\n",
      "           1       0.40      0.69      0.51       411\n",
      "\n",
      "    accuracy                           0.65      1548\n",
      "   macro avg       0.63      0.66      0.62      1548\n",
      "weighted avg       0.73      0.65      0.67      1548\n",
      "\n",
      "-------------------------\n",
      "for GBM models: \n",
      "\n",
      "              precision    recall  f1-score   support\n",
      "\n",
      "           0       0.90      0.62      0.74      1137\n",
      "           1       0.44      0.82      0.57       411\n",
      "\n",
      "    accuracy                           0.68      1548\n",
      "   macro avg       0.67      0.72      0.66      1548\n",
      "weighted avg       0.78      0.68      0.69      1548\n",
      "\n",
      "-------------------------\n",
      "for light_gbm models: \n",
      "\n",
      "              precision    recall  f1-score   support\n",
      "\n",
      "           0       0.89      0.64      0.74      1137\n",
      "           1       0.44      0.78      0.56       411\n",
      "\n",
      "    accuracy                           0.68      1548\n",
      "   macro avg       0.66      0.71      0.65      1548\n",
      "weighted avg       0.77      0.68      0.69      1548\n",
      "\n",
      "-------------------------\n"
     ]
    }
   ],
   "source": [
    "models={\"log_reg\":LogisticRegression(),\n",
    "        \"svc_linear\":svm.SVC(kernel='linear'),\n",
    "        \"svc_rbf\":svm.SVC(kernel='rbf'),\n",
    "        \"knn\":KNeighborsClassifier(),\n",
    "        \"rf\":RandomForestClassifier(max_depth=2, random_state=0),\n",
    "        \"nn\":MLPClassifier(),\n",
    "        \"cart\":DecisionTreeClassifier(),\n",
    "        \"GBM\":GradientBoostingClassifier(), \n",
    "        \"light_gbm\":LGBMClassifier()}\n",
    "results={}\n",
    "\n",
    "for name,model in models.items():\n",
    "    model.fit(X_train_fs,y_train)\n",
    "    y_pred=model.predict(X_test_fs)\n",
    "    results[name]=roc_auc_score(y_test,y_pred)\n",
    "    print(\"for\",name,\"models: \\n\")\n",
    "    print(classification_report(y_test,y_pred))\n",
    "    print(\"-\"*25)"
   ]
  },
  {
   "cell_type": "markdown",
   "id": "8ba05cde-600a-4fb0-8928-35ca984a9fb5",
   "metadata": {
    "tags": []
   },
   "source": [
    "### Tahminleme"
   ]
  },
  {
   "cell_type": "code",
   "execution_count": 141,
   "id": "583ed5b4-2c33-408a-aacb-136197eb1e0c",
   "metadata": {},
   "outputs": [
    {
     "name": "stdout",
     "output_type": "stream",
     "text": [
      "              precision    recall  f1-score   support\n",
      "\n",
      "           0       0.92      0.61      0.73      1137\n",
      "           1       0.44      0.86      0.59       411\n",
      "\n",
      "    accuracy                           0.68      1548\n",
      "   macro avg       0.68      0.73      0.66      1548\n",
      "weighted avg       0.80      0.68      0.69      1548\n",
      "\n"
     ]
    }
   ],
   "source": [
    "#log reg kur\n",
    "X_train, y_train = get_train_batch(df3_class0, df3_class1, 2916, 4026)\n",
    "X_train_fs, X_test_fs = select_features(X_train, y_train, X_test,k=4)\n",
    "model=LogisticRegression(max_iter=1000)\n",
    "model.fit(X_train_fs,y_train)\n",
    "y_pred3=model.predict(X_test_fs)\n",
    "print(classification_report(y_test,y_pred3))"
   ]
  },
  {
   "cell_type": "code",
   "execution_count": 142,
   "id": "cbaba33a-c31e-4e7a-8904-f4c211444abe",
   "metadata": {},
   "outputs": [],
   "source": [
    "#doğrulama\n",
    "\n",
    "y_pred_final = y_pred1.copy()\n",
    "for i in range(len(y_pred1)):\n",
    "    n_ones = y_pred1[i] + y_pred2[i] + y_pred3[i]\n",
    "    if n_ones>2:\n",
    "        y_pred_final[i] = 1\n",
    "    else:\n",
    "        y_pred_final[i] = 0"
   ]
  },
  {
   "cell_type": "code",
   "execution_count": null,
   "id": "67de2ddb-67bf-43e9-a50b-f5d41635a36b",
   "metadata": {},
   "outputs": [],
   "source": [
    "print(classification_report(y_test, y_pred_final))"
   ]
  },
  {
   "cell_type": "markdown",
   "id": "cdf914d8-01d9-49a1-befd-b14d8b4158b7",
   "metadata": {},
   "source": [
    "# Sonuç"
   ]
  },
  {
   "cell_type": "markdown",
   "id": "8e007b01-fdf2-441e-9b30-8aeff6974c41",
   "metadata": {},
   "source": [
    "Bu projede amaç tuning değil, dengesiz veri setlerinde ensemble methodun etkisi ve nasıl kullanıldığı olduğu için ilk 3 modelin alınıp tune edilmesi kısmı atlanılacaktır. \n",
    "<br>\n",
    "Ensemble method kullanılarak elde edilen sonuçların doğrulama metrik çıktılarını inceleyip projeyi bitireceğiz."
   ]
  },
  {
   "cell_type": "code",
   "execution_count": 157,
   "id": "52149628-8f76-4fdc-9312-e7f19ac5af3b",
   "metadata": {},
   "outputs": [
    {
     "name": "stdout",
     "output_type": "stream",
     "text": [
      "Classification Report:\n",
      "\n",
      "               precision    recall  f1-score   support\n",
      "\n",
      "           0       0.89      0.74      0.81      1137\n",
      "           1       0.51      0.74      0.60       411\n",
      "\n",
      "    accuracy                           0.74      1548\n",
      "   macro avg       0.70      0.74      0.70      1548\n",
      "weighted avg       0.79      0.74      0.75      1548\n",
      "\n",
      "--------------------\n",
      "Confusion Matrix:\n",
      "\n",
      " [[841 296]\n",
      " [106 305]]\n",
      "--------------------\n",
      "Accuracy Score: 0.7403100775193798\n",
      "--------------------\n",
      "ROC AUC Score: 0.7408791222900577\n"
     ]
    }
   ],
   "source": [
    "print(\"Classification Report:\\n\\n\",classification_report(y_test, y_pred_final))\n",
    "print(\"-\"*20)\n",
    "print(\"Confusion Matrix:\\n\\n\",confusion_matrix(y_test, y_pred_final))\n",
    "print(\"-\"*20)\n",
    "print(\"Accuracy Score:\",accuracy_score(y_test,y_pred_final))\n",
    "print(\"-\"*20)\n",
    "print(\"ROC AUC Score:\",roc_auc_score(y_test,y_pred_final))"
   ]
  },
  {
   "cell_type": "markdown",
   "id": "a727fed7-20c8-4033-987c-da47ff7073b5",
   "metadata": {},
   "source": []
  },
  {
   "cell_type": "code",
   "execution_count": null,
   "id": "8a818029-8282-4bfd-9ffb-e9b85c0cf9b4",
   "metadata": {},
   "outputs": [],
   "source": []
  }
 ],
 "metadata": {
  "kernelspec": {
   "display_name": "Python 3 (ipykernel)",
   "language": "python",
   "name": "python3"
  },
  "language_info": {
   "codemirror_mode": {
    "name": "ipython",
    "version": 3
   },
   "file_extension": ".py",
   "mimetype": "text/x-python",
   "name": "python",
   "nbconvert_exporter": "python",
   "pygments_lexer": "ipython3",
   "version": "3.9.7"
  }
 },
 "nbformat": 4,
 "nbformat_minor": 5
}
